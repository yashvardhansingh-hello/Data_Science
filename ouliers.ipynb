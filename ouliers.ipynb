{
 "cells": [
  {
   "cell_type": "code",
   "execution_count": 9,
   "id": "1b8d093a",
   "metadata": {},
   "outputs": [],
   "source": [
    "### oultiers"
   ]
  },
  {
   "cell_type": "code",
   "execution_count": 10,
   "id": "c0c0b805",
   "metadata": {},
   "outputs": [],
   "source": [
    "import pandas as pd\n",
    "import numpy as np\n",
    "import matplotlib.pyplot as plt\n",
    "%matplotlib inline"
   ]
  },
  {
   "cell_type": "code",
   "execution_count": 11,
   "id": "5285f716",
   "metadata": {},
   "outputs": [],
   "source": [
    "### Define dataset\n",
    "dataset = [11,10,12,14,12,15,102,12,14,17,19,107,10,13,13,14,12,100,12,11,13,15,10,15,12,10,14,13,15,10]"
   ]
  },
  {
   "cell_type": "code",
   "execution_count": 23,
   "id": "fe8be206",
   "metadata": {},
   "outputs": [],
   "source": [
    " outliers=[]\n",
    "\n",
    "def detect_outlier(data):\n",
    "    threshold=3\n",
    "    mean=np.mean(data)\n",
    "    std = np.std(data)\n",
    "    for i in data:\n",
    "        z_score = (i-mean)/std\n",
    "        if np.absolute(z_score) >= threshold:\n",
    "            outliers.append(i)\n",
    "    \n",
    "    return outliers\n"
   ]
  },
  {
   "cell_type": "code",
   "execution_count": 13,
   "id": "57c88073",
   "metadata": {
    "scrolled": true
   },
   "outputs": [
    {
     "data": {
      "text/plain": [
       "(array([27.,  0.,  0.,  0.,  0.,  0.,  0.,  0.,  0.,  3.]),\n",
       " array([ 10. ,  19.7,  29.4,  39.1,  48.8,  58.5,  68.2,  77.9,  87.6,\n",
       "         97.3, 107. ]),\n",
       " <BarContainer object of 10 artists>)"
      ]
     },
     "execution_count": 13,
     "metadata": {},
     "output_type": "execute_result"
    },
    {
     "data": {
      "image/png": "[encoded data removed]",
      "text/plain": [
       "<Figure size 640x480 with 1 Axes>"
      ]
     },
     "metadata": {},
     "output_type": "display_data"
    }
   ],
   "source": [
    "plt.hist(dataset)"
   ]
  },
  {
   "cell_type": "code",
   "execution_count": 32,
   "id": "7ae94ece",
   "metadata": {},
   "outputs": [
    {
     "data": {
      "text/plain": [
       "[107, 107, 107, 107, 107, 107, 107, 107, 107]"
      ]
     },
     "execution_count": 32,
     "metadata": {},
     "output_type": "execute_result"
    }
   ],
   "source": [
    "detect_outlier(dataset)"
   ]
  }
 ],
 "metadata": {
  "kernelspec": {
   "display_name": "Python 3 (ipykernel)",
   "language": "python",
   "name": "python3"
  },
  "language_info": {
   "codemirror_mode": {
    "name": "ipython",
    "version": 3
   },
   "file_extension": ".py",
   "mimetype": "text/x-python",
   "name": "python",
   "nbconvert_exporter": "python",
   "pygments_lexer": "ipython3",
   "version": "3.11.2"
  }
 },
 "nbformat": 4,
 "nbformat_minor": 5
}
